{
 "cells": [
  {
   "metadata": {
    "ExecuteTime": {
     "end_time": "2024-12-16T17:03:15.555450Z",
     "start_time": "2024-12-16T17:03:15.268761Z"
    }
   },
   "cell_type": "code",
   "source": [
    "import os\n",
    "\n",
    "from numpy.ma.core import filled\n",
    "from skimage import io\n",
    "import numpy as np  \n",
    "\n",
    "# paths to data\n",
    "path_closed = \"./data/train/Closed_Eyes\"\n",
    "path_open = \"./data/train/Open_Eyes\"\n",
    "\n",
    "# list of filenames\n",
    "closed_eyes_files = os.listdir(path_closed)\n",
    "open_eyes_files = os.listdir(path_open)"
   ],
   "id": "49a60a8f402bfa34",
   "outputs": [],
   "execution_count": 2
  },
  {
   "metadata": {
    "ExecuteTime": {
     "end_time": "2024-12-16T17:03:17.908040Z",
     "start_time": "2024-12-16T17:03:15.560683Z"
    }
   },
   "cell_type": "code",
   "source": [
    "# images stored here\n",
    "closed_eyes = []\n",
    "open_eyes = []\n",
    "\n",
    "# images loaded here\n",
    "for file_name in closed_eyes_files:\n",
    "    path = path_closed + \"/\" + file_name\n",
    "    closed_eyes.append(io.imread(path))\n",
    "\n",
    "for file_name in open_eyes_files:\n",
    "    path = path_open + \"/\" + file_name\n",
    "    open_eyes.append(io.imread(path))\n",
    "\n",
    "# get sizes of the pictures in the array\n",
    "closed_eyes_sizes = [image.shape[0] for image in closed_eyes]\n",
    "open_eyes_sizes = [image.shape[0] for image in open_eyes]"
   ],
   "id": "3f5df46605ac86fe",
   "outputs": [],
   "execution_count": 3
  },
  {
   "metadata": {},
   "cell_type": "markdown",
   "source": "## RESIZE",
   "id": "571ec011d33f0160"
  },
  {
   "metadata": {
    "ExecuteTime": {
     "end_time": "2024-12-16T17:03:19.459150Z",
     "start_time": "2024-12-16T17:03:17.916220Z"
    }
   },
   "cell_type": "code",
   "source": [
    "from skimage.transform import resize\n",
    "\n",
    "\n",
    "median_size = (np.median(open_eyes_sizes + closed_eyes_sizes))\n",
    "\n",
    "# resize to target size, equal to mean value for all sizes\n",
    "target_size = (int(median_size), int(median_size))\n",
    "open_resized = []\n",
    "closed_resized = []\n",
    " \n",
    "for img in closed_eyes:\n",
    "    closed_resized.append(resize(img, target_size, anti_aliasing=True))\n",
    "\n",
    "for img in open_eyes:\n",
    "    open_resized.append(resize(img, target_size, anti_aliasing=True))\n",
    "\n",
    "closed_resized = np.array(closed_resized)\n",
    "open_resized = np.array(open_resized)"
   ],
   "id": "b96904894fd7d47c",
   "outputs": [],
   "execution_count": 4
  },
  {
   "metadata": {
    "ExecuteTime": {
     "end_time": "2024-12-16T17:03:19.598928Z",
     "start_time": "2024-12-16T17:03:19.469705Z"
    }
   },
   "cell_type": "code",
   "source": [
    "X = np.concatenate((closed_resized.copy(), open_resized.copy()), axis=0)\n",
    "y = np.concatenate((np.zeros(2000), np.ones(2000))) # 0 for closed, 1 for open eye"
   ],
   "id": "cdde5c74a796ffeb",
   "outputs": [],
   "execution_count": 5
  },
  {
   "metadata": {},
   "cell_type": "markdown",
   "source": "## SPLIT",
   "id": "76f8b7a754a272bf"
  },
  {
   "metadata": {
    "ExecuteTime": {
     "end_time": "2024-12-16T17:03:20.137284Z",
     "start_time": "2024-12-16T17:03:19.612981Z"
    }
   },
   "cell_type": "code",
   "source": [
    "from sklearn.model_selection import StratifiedShuffleSplit, StratifiedKFold, RandomizedSearchCV, GridSearchCV\n",
    "\n",
    "# stratified sampling\n",
    "split = StratifiedShuffleSplit(n_splits=1, test_size=0.2, random_state=42)\n",
    "\n",
    "for train_index, test_index in split.split(X, y):\n",
    "    X_train, y_train = X[train_index], y[train_index]\n",
    "    X_test, y_test = X[test_index], y[test_index]\n",
    "\n",
    "# 4:1\n",
    "# 3200 in train set, 1600 open 1600 closed\n",
    "print(X_train.shape)"
   ],
   "id": "9efe63fe3c56aea6",
   "outputs": [
    {
     "name": "stdout",
     "output_type": "stream",
     "text": [
      "(3200, 100, 100)\n"
     ]
    }
   ],
   "execution_count": 6
  },
  {
   "metadata": {},
   "cell_type": "markdown",
   "source": "## DATA AUGMENTATION",
   "id": "8efced711e8d4271"
  },
  {
   "metadata": {
    "ExecuteTime": {
     "end_time": "2024-12-16T17:03:20.222162Z",
     "start_time": "2024-12-16T17:03:20.218863Z"
    }
   },
   "cell_type": "code",
   "source": [
    "test_tilt_size = 100 # 200 more pictures for light and dark\n",
    "train_tilt_size = 100 # 400 more pictures for light and dark\n",
    "\n",
    "np.random.seed(42)\n",
    "\n",
    "test_light_indexes = np.random.choice(len(X_test), size = test_tilt_size, replace=False)\n",
    "test_dark_indexes = np.random.choice(len(X_test), size = test_tilt_size, replace=False)\n",
    "\n",
    "train_light_indexes = np.random.choice(len(X_train), size = train_tilt_size, replace=False)\n",
    "train_dark_indexes = np.random.choice(len(X_train), size = train_tilt_size, replace=False)"
   ],
   "id": "a835feab8efaf04a",
   "outputs": [],
   "execution_count": 7
  },
  {
   "metadata": {
    "ExecuteTime": {
     "end_time": "2024-12-16T17:03:20.292386Z",
     "start_time": "2024-12-16T17:03:20.279228Z"
    }
   },
   "cell_type": "code",
   "source": [
    "X_test_dark = X_test[test_dark_indexes]\n",
    "X_test_light = X_test[test_light_indexes]\n",
    "y_test_dark = y_test[test_dark_indexes]\n",
    "y_test_light = y_test[test_light_indexes]\n",
    "\n",
    "X_train_dark = X_train[train_dark_indexes]\n",
    "X_train_light = X_train[train_light_indexes]\n",
    "y_train_dark = y_train[train_dark_indexes]\n",
    "y_train_light = y_train[train_light_indexes]\n",
    "\n",
    "print(len(X_test_light) + len(X_test_dark)) \n",
    "print(len(X_train_dark) + len(X_train_light))"
   ],
   "id": "8fa495eeb1b35f93",
   "outputs": [
    {
     "name": "stdout",
     "output_type": "stream",
     "text": [
      "200\n",
      "200\n"
     ]
    }
   ],
   "execution_count": 8
  },
  {
   "metadata": {
    "ExecuteTime": {
     "end_time": "2024-12-16T17:03:20.351018Z",
     "start_time": "2024-12-16T17:03:20.331557Z"
    }
   },
   "cell_type": "code",
   "source": [
    "desired_mean = 0.95\n",
    "for i in range(len(X_test_light)):\n",
    "    current_mean = np.mean(X_test_light[i])\n",
    "    X_test_light[i] = np.clip(X_test_light[i] + (desired_mean - current_mean), 0, 1)\n",
    "    \n",
    "for i in range(len(X_train_light)):\n",
    "    current_mean = np.mean(X_train_light[i])\n",
    "    X_train_light[i] = np.clip(X_train_light[i] + (desired_mean - current_mean), 0, 1)\n",
    "\n",
    "X_test_dark = np.clip(X_test_dark * 0.9, 0, 1)\n",
    "X_train_dark = np.clip(X_train_dark * 0.9, 0, 1)\n"
   ],
   "id": "12f2524d46c686a3",
   "outputs": [],
   "execution_count": 9
  },
  {
   "metadata": {
    "ExecuteTime": {
     "end_time": "2024-12-16T17:03:53.111039Z",
     "start_time": "2024-12-16T17:03:52.940541Z"
    }
   },
   "cell_type": "code",
   "source": [
    "from matplotlib import pyplot as plt\n",
    "\n",
    "fig, (ax1, ax2) = plt.subplots(1, 2, figsize=(10, 10))\n",
    "ax1.imshow(X_test_dark[0], cmap=\"gray\")\n",
    "ax2.imshow(X_test_light[0], cmap=\"gray\")"
   ],
   "id": "6fd18c33a6d7b46",
   "outputs": [
    {
     "data": {
      "text/plain": [
       "<matplotlib.image.AxesImage at 0x7f30b4365c70>"
      ]
     },
     "execution_count": 12,
     "metadata": {},
     "output_type": "execute_result"
    },
    {
     "data": {
      "text/plain": [
       "<Figure size 1000x1000 with 2 Axes>"
      ],
      "image/png": "[encoded data removed]"
     },
     "metadata": {},
     "output_type": "display_data"
    }
   ],
   "execution_count": 12
  },
  {
   "metadata": {},
   "cell_type": "markdown",
   "source": "## BLUR",
   "id": "77cbaec8dc45af58"
  },
  {
   "metadata": {
    "ExecuteTime": {
     "end_time": "2024-12-16T17:09:54.040745Z",
     "start_time": "2024-12-16T17:09:54.038053Z"
    }
   },
   "cell_type": "code",
   "source": [
    "test_blur_size = 50\n",
    "train_blur_size = 200\n",
    "\n",
    "test_blur_indexes = np.random.choice(len(X_test), size = test_blur_size, replace=False)\n",
    "train_blur_indexes = np.random.choice(len(X_train), size = train_blur_size, replace=False)"
   ],
   "id": "b8e81828ae83abcf",
   "outputs": [],
   "execution_count": 13
  },
  {
   "metadata": {
    "ExecuteTime": {
     "end_time": "2024-12-16T17:09:54.515236Z",
     "start_time": "2024-12-16T17:09:54.506186Z"
    }
   },
   "cell_type": "code",
   "source": [
    "X_test_blur = X_test[test_blur_indexes]\n",
    "y_test_blur = y_test[test_blur_indexes]\n",
    "\n",
    "X_train_blur = X_train[train_blur_indexes]\n",
    "y_train_blur = y_train[train_blur_indexes]\n",
    "\n",
    "print(len(X_test_blur))\n",
    "print(len(X_train_blur))"
   ],
   "id": "e3a81380f333beb4",
   "outputs": [
    {
     "name": "stdout",
     "output_type": "stream",
     "text": [
      "50\n",
      "200\n"
     ]
    }
   ],
   "execution_count": 14
  },
  {
   "metadata": {
    "ExecuteTime": {
     "end_time": "2024-12-16T17:09:55.053785Z",
     "start_time": "2024-12-16T17:09:55.051184Z"
    }
   },
   "cell_type": "code",
   "source": [
    "def pixelate(image):\n",
    "    pixelated_image = np.copy(image)\n",
    "    \n",
    "    for i in range(1, image.shape[0] - 1):\n",
    "        for j in range(1, image.shape[1] - 1):\n",
    "            neighborhood = image[i-1:i+4, j-1:j+4].astype(float)\n",
    "            pixelated_image[i, j] = np.mean(neighborhood)\n",
    "            \n",
    "    return pixelated_image"
   ],
   "id": "5846ca0b3aea386d",
   "outputs": [],
   "execution_count": 15
  },
  {
   "metadata": {
    "ExecuteTime": {
     "end_time": "2024-12-16T17:10:07.225423Z",
     "start_time": "2024-12-16T17:09:55.643105Z"
    }
   },
   "cell_type": "code",
   "source": [
    "for i in range(len(X_test_blur)):\n",
    "   X_test_blur[i] = pixelate(X_test_blur[i])\n",
    "   \n",
    "for i in range(len(X_train_blur)):\n",
    "    X_train_blur[i] = pixelate(X_train_blur[i])"
   ],
   "id": "894d8dce244bcbd7",
   "outputs": [],
   "execution_count": 16
  },
  {
   "metadata": {
    "ExecuteTime": {
     "end_time": "2024-12-16T17:10:07.366505Z",
     "start_time": "2024-12-16T17:10:07.231941Z"
    }
   },
   "cell_type": "code",
   "source": [
    "fig, (ax1, ax2) = plt.subplots(1, 2, figsize=(10, 10))\n",
    "ax2.imshow(X_test_blur[0], cmap=\"gray\")\n",
    "ax1.imshow(X_test[test_blur_indexes[0]], cmap=\"gray\")"
   ],
   "id": "e912aa72833b36a4",
   "outputs": [
    {
     "data": {
      "text/plain": [
       "<matplotlib.image.AxesImage at 0x7f30b1f06720>"
      ]
     },
     "execution_count": 17,
     "metadata": {},
     "output_type": "execute_result"
    },
    {
     "data": {
      "text/plain": [
       "<Figure size 1000x1000 with 2 Axes>"
      ],
      "image/png": "[encoded data removed]"
     },
     "metadata": {},
     "output_type": "display_data"
    }
   ],
   "execution_count": 17
  },
  {
   "metadata": {},
   "cell_type": "markdown",
   "source": "    ## CONCATENATE",
   "id": "3ddbdf244c918f04"
  },
  {
   "metadata": {},
   "cell_type": "markdown",
   "source": "## ROTATE",
   "id": "a2302e301c3ecbc4"
  },
  {
   "metadata": {
    "ExecuteTime": {
     "end_time": "2024-12-16T17:17:03.894488Z",
     "start_time": "2024-12-16T17:17:03.892071Z"
    }
   },
   "cell_type": "code",
   "source": [
    "test_rotation_size = 50\n",
    "train_rotation_size = 200\n",
    "\n",
    "test_rotation_indexes = np.random.choice(len(X_test), size = test_rotation_size, replace=False)\n",
    "train_rotation_indexes = np.random.choice(len(X_train), size = train_rotation_size, replace=False)"
   ],
   "id": "3b02c5e9d11d89c8",
   "outputs": [],
   "execution_count": 18
  },
  {
   "metadata": {
    "ExecuteTime": {
     "end_time": "2024-12-16T17:17:04.965498Z",
     "start_time": "2024-12-16T17:17:04.956450Z"
    }
   },
   "cell_type": "code",
   "source": [
    "X_test_rotate = X_test[test_rotation_indexes]\n",
    "y_test_rotate = y_test[test_rotation_indexes]\n",
    "\n",
    "X_train_rotate = X_train[train_rotation_indexes]\n",
    "y_train_rotate = y_train[train_rotation_indexes]"
   ],
   "id": "e4431d27ba0fecff",
   "outputs": [],
   "execution_count": 19
  },
  {
   "metadata": {
    "ExecuteTime": {
     "end_time": "2024-12-16T17:17:05.781704Z",
     "start_time": "2024-12-16T17:17:05.770417Z"
    }
   },
   "cell_type": "code",
   "source": [
    "for i in range(len(X_test_rotate)):\n",
    "    X_test_rotate[i] = np.rot90(X_test_rotate[i], k=1)\n",
    "\n",
    "for i in range(len(X_train_rotate)):\n",
    "    X_train_rotate[i] = np.rot90(X_train_rotate[i], k=1)"
   ],
   "id": "c46f345a17612ec6",
   "outputs": [],
   "execution_count": 20
  },
  {
   "metadata": {
    "ExecuteTime": {
     "end_time": "2024-12-16T17:17:39.447118Z",
     "start_time": "2024-12-16T17:17:39.308133Z"
    }
   },
   "cell_type": "code",
   "source": [
    "fig, (ax1, ax2) = plt.subplots(1, 2, figsize=(10, 10))\n",
    "ax2.imshow(X_test_rotate[0], cmap=\"gray\")\n",
    "ax1.imshow(X_test[test_rotation_indexes[0]], cmap=\"gray\")"
   ],
   "id": "740465f0fb659830",
   "outputs": [
    {
     "data": {
      "text/plain": [
       "<matplotlib.image.AxesImage at 0x7f30b1f45070>"
      ]
     },
     "execution_count": 21,
     "metadata": {},
     "output_type": "execute_result"
    },
    {
     "data": {
      "text/plain": [
       "<Figure size 1000x1000 with 2 Axes>"
      ],
      "image/png": "[encoded data removed]"
     },
     "metadata": {},
     "output_type": "display_data"
    }
   ],
   "execution_count": 21
  },
  {
   "metadata": {
    "ExecuteTime": {
     "end_time": "2024-12-16T17:03:20.568380900Z",
     "start_time": "2024-12-16T16:32:11.809508Z"
    }
   },
   "cell_type": "code",
   "outputs": [
    {
     "name": "stdout",
     "output_type": "stream",
     "text": [
      "1050\n",
      "3600\n"
     ]
    }
   ],
   "execution_count": 77,
   "source": [
    "X_test = np.concatenate((X_test, X_test_dark, X_test_light, X_test_blur), axis=0)\n",
    "y_test = np.concatenate((y_test, y_test_dark, y_test_light, y_test_blur), axis=0)\n",
    "\n",
    "X_train = np.concatenate((X_train, X_train_dark, X_train_light, X_train_blur), axis=0)\n",
    "y_train = np.concatenate((y_train, y_train_dark, y_train_light, y_train_blur), axis=0)\n",
    "\n",
    "print(len(X_test))\n",
    "print(len(X_train))"
   ],
   "id": "ba634efbcbfc6303"
  },
  {
   "metadata": {},
   "cell_type": "markdown",
   "source": "## PCA",
   "id": "c1ba3dfbeec7c2d2"
  },
  {
   "metadata": {
    "ExecuteTime": {
     "end_time": "2024-12-16T17:03:20.569213221Z",
     "start_time": "2024-12-16T16:32:12.246762Z"
    }
   },
   "cell_type": "code",
   "source": [
    "from sklearn.decomposition import PCA\n",
    "\n",
    "pca = PCA(n_components=0.95)"
   ],
   "id": "a546797b5a94036c",
   "outputs": [],
   "execution_count": 82
  },
  {
   "metadata": {
    "ExecuteTime": {
     "end_time": "2024-12-16T17:03:20.569348545Z",
     "start_time": "2024-12-16T16:32:12.291014Z"
    }
   },
   "cell_type": "code",
   "source": [
    "X_flattened = X_train.reshape(X_train.shape[0], -1)\n",
    "print(X_flattened.shape)\n",
    "\n",
    "X_test_flattened = X_test.reshape(X_test.shape[0], -1)\n",
    "print(X_test_flattened.shape)"
   ],
   "id": "dd1c4fd66a6387ad",
   "outputs": [
    {
     "name": "stdout",
     "output_type": "stream",
     "text": [
      "(3600, 10000)\n",
      "(1050, 10000)\n"
     ]
    }
   ],
   "execution_count": 83
  },
  {
   "metadata": {
    "ExecuteTime": {
     "end_time": "2024-12-16T17:03:20.569753615Z",
     "start_time": "2024-12-16T16:32:12.341685Z"
    }
   },
   "cell_type": "code",
   "source": [
    "X_train_flattened = pca.fit_transform(X_flattened)\n",
    "X_test_flattened = pca.transform(X_test_flattened)"
   ],
   "id": "f8a77a0621e748ba",
   "outputs": [],
   "execution_count": 84
  },
  {
   "metadata": {
    "ExecuteTime": {
     "end_time": "2024-12-16T17:03:20.569927071Z",
     "start_time": "2024-12-16T16:32:48.706952Z"
    }
   },
   "cell_type": "code",
   "source": [
    "print(X_test_flattened.shape)\n",
    "print(X_train_flattened.shape)"
   ],
   "id": "b87c37583ff3d86",
   "outputs": [
    {
     "name": "stdout",
     "output_type": "stream",
     "text": [
      "(1050, 11)\n",
      "(3600, 11)\n"
     ]
    }
   ],
   "execution_count": 85
  },
  {
   "metadata": {
    "ExecuteTime": {
     "end_time": "2024-12-16T17:03:20.570116336Z",
     "start_time": "2024-12-16T16:32:48.767108Z"
    }
   },
   "cell_type": "code",
   "source": [
    "from sklearn.preprocessing import StandardScaler\n",
    "\n",
    "# mean = 0\n",
    "# standard deviation = 1\n",
    "\n",
    "scaler = StandardScaler()\n",
    "X_train_flattened = scaler.fit_transform(X_train_flattened)\n",
    "X_test_flattened = scaler.transform(X_test_flattened) # NOT FIT TRANSFORM\n",
    "print(np.std(X_train_flattened))\n",
    "print(abs(round(np.mean(X_train_flattened), 17)))"
   ],
   "id": "988e5cfce8e8184d",
   "outputs": [
    {
     "name": "stdout",
     "output_type": "stream",
     "text": [
      "1.0\n",
      "0.0\n"
     ]
    }
   ],
   "execution_count": 86
  },
  {
   "metadata": {},
   "cell_type": "markdown",
   "source": "## RANDOM FOREST",
   "id": "250678cf03d362b3"
  },
  {
   "metadata": {
    "ExecuteTime": {
     "end_time": "2024-12-16T17:03:20.570263712Z",
     "start_time": "2024-12-16T16:32:48.811910Z"
    }
   },
   "cell_type": "code",
   "source": [
    "from sklearn.ensemble import RandomForestClassifier\n",
    "\n",
    "rnd_clf = RandomForestClassifier(random_state=42, n_jobs=1, max_leaf_nodes=80, n_estimators=600)"
   ],
   "id": "d83d91cdaad885e4",
   "outputs": [],
   "execution_count": 87
  },
  {
   "metadata": {
    "ExecuteTime": {
     "end_time": "2024-12-16T17:03:20.570401130Z",
     "start_time": "2024-12-16T16:32:48.858409Z"
    }
   },
   "cell_type": "code",
   "source": "rnd_clf.fit(X_train_flattened, y_train)\n",
   "id": "38170d5b0de9d89",
   "outputs": [
    {
     "data": {
      "text/plain": [
       "RandomForestClassifier(max_leaf_nodes=80, n_estimators=600, n_jobs=1,\n",
       "                       random_state=42)"
      ],
      "text/html": [
       "<style>#sk-container-id-3 {\n",
       "  /* Definition of color scheme common for light and dark mode */\n",
       "  --sklearn-color-text: black;\n",
       "  --sklearn-color-line: gray;\n",
       "  /* Definition of color scheme for unfitted estimators */\n",
       "  --sklearn-color-unfitted-level-0: #fff5e6;\n",
       "  --sklearn-color-unfitted-level-1: #f6e4d2;\n",
       "  --sklearn-color-unfitted-level-2: #ffe0b3;\n",
       "  --sklearn-color-unfitted-level-3: chocolate;\n",
       "  /* Definition of color scheme for fitted estimators */\n",
       "  --sklearn-color-fitted-level-0: #f0f8ff;\n",
       "  --sklearn-color-fitted-level-1: #d4ebff;\n",
       "  --sklearn-color-fitted-level-2: #b3dbfd;\n",
       "  --sklearn-color-fitted-level-3: cornflowerblue;\n",
       "\n",
       "  /* Specific color for light theme */\n",
       "  --sklearn-color-text-on-default-background: var(--sg-text-color, var(--theme-code-foreground, var(--jp-content-font-color1, black)));\n",
       "  --sklearn-color-background: var(--sg-background-color, var(--theme-background, var(--jp-layout-color0, white)));\n",
       "  --sklearn-color-border-box: var(--sg-text-color, var(--theme-code-foreground, var(--jp-content-font-color1, black)));\n",
       "  --sklearn-color-icon: #696969;\n",
       "\n",
       "  @media (prefers-color-scheme: dark) {\n",
       "    /* Redefinition of color scheme for dark theme */\n",
       "    --sklearn-color-text-on-default-background: var(--sg-text-color, var(--theme-code-foreground, var(--jp-content-font-color1, white)));\n",
       "    --sklearn-color-background: var(--sg-background-color, var(--theme-background, var(--jp-layout-color0, #111)));\n",
       "    --sklearn-color-border-box: var(--sg-text-color, var(--theme-code-foreground, var(--jp-content-font-color1, white)));\n",
       "    --sklearn-color-icon: #878787;\n",
       "  }\n",
       "}\n",
       "\n",
       "#sk-container-id-3 {\n",
       "  color: var(--sklearn-color-text);\n",
       "}\n",
       "\n",
       "#sk-container-id-3 pre {\n",
       "  padding: 0;\n",
       "}\n",
       "\n",
       "#sk-container-id-3 input.sk-hidden--visually {\n",
       "  border: 0;\n",
       "  clip: rect(1px 1px 1px 1px);\n",
       "  clip: rect(1px, 1px, 1px, 1px);\n",
       "  height: 1px;\n",
       "  margin: -1px;\n",
       "  overflow: hidden;\n",
       "  padding: 0;\n",
       "  position: absolute;\n",
       "  width: 1px;\n",
       "}\n",
       "\n",
       "#sk-container-id-3 div.sk-dashed-wrapped {\n",
       "  border: 1px dashed var(--sklearn-color-line);\n",
       "  margin: 0 0.4em 0.5em 0.4em;\n",
       "  box-sizing: border-box;\n",
       "  padding-bottom: 0.4em;\n",
       "  background-color: var(--sklearn-color-background);\n",
       "}\n",
       "\n",
       "#sk-container-id-3 div.sk-container {\n",
       "  /* jupyter's `normalize.less` sets `[hidden] { display: none; }`\n",
       "     but bootstrap.min.css set `[hidden] { display: none !important; }`\n",
       "     so we also need the `!important` here to be able to override the\n",
       "     default hidden behavior on the sphinx rendered scikit-learn.org.\n",
       "     See: https://github.com/scikit-learn/scikit-learn/issues/21755 */\n",
       "  display: inline-block !important;\n",
       "  position: relative;\n",
       "}\n",
       "\n",
       "#sk-container-id-3 div.sk-text-repr-fallback {\n",
       "  display: none;\n",
       "}\n",
       "\n",
       "div.sk-parallel-item,\n",
       "div.sk-serial,\n",
       "div.sk-item {\n",
       "  /* draw centered vertical line to link estimators */\n",
       "  background-image: linear-gradient(var(--sklearn-color-text-on-default-background), var(--sklearn-color-text-on-default-background));\n",
       "  background-size: 2px 100%;\n",
       "  background-repeat: no-repeat;\n",
       "  background-position: center center;\n",
       "}\n",
       "\n",
       "/* Parallel-specific style estimator block */\n",
       "\n",
       "#sk-container-id-3 div.sk-parallel-item::after {\n",
       "  content: \"\";\n",
       "  width: 100%;\n",
       "  border-bottom: 2px solid var(--sklearn-color-text-on-default-background);\n",
       "  flex-grow: 1;\n",
       "}\n",
       "\n",
       "#sk-container-id-3 div.sk-parallel {\n",
       "  display: flex;\n",
       "  align-items: stretch;\n",
       "  justify-content: center;\n",
       "  background-color: var(--sklearn-color-background);\n",
       "  position: relative;\n",
       "}\n",
       "\n",
       "#sk-container-id-3 div.sk-parallel-item {\n",
       "  display: flex;\n",
       "  flex-direction: column;\n",
       "}\n",
       "\n",
       "#sk-container-id-3 div.sk-parallel-item:first-child::after {\n",
       "  align-self: flex-end;\n",
       "  width: 50%;\n",
       "}\n",
       "\n",
       "#sk-container-id-3 div.sk-parallel-item:last-child::after {\n",
       "  align-self: flex-start;\n",
       "  width: 50%;\n",
       "}\n",
       "\n",
       "#sk-container-id-3 div.sk-parallel-item:only-child::after {\n",
       "  width: 0;\n",
       "}\n",
       "\n",
       "/* Serial-specific style estimator block */\n",
       "\n",
       "#sk-container-id-3 div.sk-serial {\n",
       "  display: flex;\n",
       "  flex-direction: column;\n",
       "  align-items: center;\n",
       "  background-color: var(--sklearn-color-background);\n",
       "  padding-right: 1em;\n",
       "  padding-left: 1em;\n",
       "}\n",
       "\n",
       "\n",
       "/* Toggleable style: style used for estimator/Pipeline/ColumnTransformer box that is\n",
       "clickable and can be expanded/collapsed.\n",
       "- Pipeline and ColumnTransformer use this feature and define the default style\n",
       "- Estimators will overwrite some part of the style using the `sk-estimator` class\n",
       "*/\n",
       "\n",
       "/* Pipeline and ColumnTransformer style (default) */\n",
       "\n",
       "#sk-container-id-3 div.sk-toggleable {\n",
       "  /* Default theme specific background. It is overwritten whether we have a\n",
       "  specific estimator or a Pipeline/ColumnTransformer */\n",
       "  background-color: var(--sklearn-color-background);\n",
       "}\n",
       "\n",
       "/* Toggleable label */\n",
       "#sk-container-id-3 label.sk-toggleable__label {\n",
       "  cursor: pointer;\n",
       "  display: block;\n",
       "  width: 100%;\n",
       "  margin-bottom: 0;\n",
       "  padding: 0.5em;\n",
       "  box-sizing: border-box;\n",
       "  text-align: center;\n",
       "}\n",
       "\n",
       "#sk-container-id-3 label.sk-toggleable__label-arrow:before {\n",
       "  /* Arrow on the left of the label */\n",
       "  content: \"▸\";\n",
       "  float: left;\n",
       "  margin-right: 0.25em;\n",
       "  color: var(--sklearn-color-icon);\n",
       "}\n",
       "\n",
       "#sk-container-id-3 label.sk-toggleable__label-arrow:hover:before {\n",
       "  color: var(--sklearn-color-text);\n",
       "}\n",
       "\n",
       "/* Toggleable content - dropdown */\n",
       "\n",
       "#sk-container-id-3 div.sk-toggleable__content {\n",
       "  max-height: 0;\n",
       "  max-width: 0;\n",
       "  overflow: hidden;\n",
       "  text-align: left;\n",
       "  /* unfitted */\n",
       "  background-color: var(--sklearn-color-unfitted-level-0);\n",
       "}\n",
       "\n",
       "#sk-container-id-3 div.sk-toggleable__content.fitted {\n",
       "  /* fitted */\n",
       "  background-color: var(--sklearn-color-fitted-level-0);\n",
       "}\n",
       "\n",
       "#sk-container-id-3 div.sk-toggleable__content pre {\n",
       "  margin: 0.2em;\n",
       "  border-radius: 0.25em;\n",
       "  color: var(--sklearn-color-text);\n",
       "  /* unfitted */\n",
       "  background-color: var(--sklearn-color-unfitted-level-0);\n",
       "}\n",
       "\n",
       "#sk-container-id-3 div.sk-toggleable__content.fitted pre {\n",
       "  /* unfitted */\n",
       "  background-color: var(--sklearn-color-fitted-level-0);\n",
       "}\n",
       "\n",
       "#sk-container-id-3 input.sk-toggleable__control:checked~div.sk-toggleable__content {\n",
       "  /* Expand drop-down */\n",
       "  max-height: 200px;\n",
       "  max-width: 100%;\n",
       "  overflow: auto;\n",
       "}\n",
       "\n",
       "#sk-container-id-3 input.sk-toggleable__control:checked~label.sk-toggleable__label-arrow:before {\n",
       "  content: \"▾\";\n",
       "}\n",
       "\n",
       "/* Pipeline/ColumnTransformer-specific style */\n",
       "\n",
       "#sk-container-id-3 div.sk-label input.sk-toggleable__control:checked~label.sk-toggleable__label {\n",
       "  color: var(--sklearn-color-text);\n",
       "  background-color: var(--sklearn-color-unfitted-level-2);\n",
       "}\n",
       "\n",
       "#sk-container-id-3 div.sk-label.fitted input.sk-toggleable__control:checked~label.sk-toggleable__label {\n",
       "  background-color: var(--sklearn-color-fitted-level-2);\n",
       "}\n",
       "\n",
       "/* Estimator-specific style */\n",
       "\n",
       "/* Colorize estimator box */\n",
       "#sk-container-id-3 div.sk-estimator input.sk-toggleable__control:checked~label.sk-toggleable__label {\n",
       "  /* unfitted */\n",
       "  background-color: var(--sklearn-color-unfitted-level-2);\n",
       "}\n",
       "\n",
       "#sk-container-id-3 div.sk-estimator.fitted input.sk-toggleable__control:checked~label.sk-toggleable__label {\n",
       "  /* fitted */\n",
       "  background-color: var(--sklearn-color-fitted-level-2);\n",
       "}\n",
       "\n",
       "#sk-container-id-3 div.sk-label label.sk-toggleable__label,\n",
       "#sk-container-id-3 div.sk-label label {\n",
       "  /* The background is the default theme color */\n",
       "  color: var(--sklearn-color-text-on-default-background);\n",
       "}\n",
       "\n",
       "/* On hover, darken the color of the background */\n",
       "#sk-container-id-3 div.sk-label:hover label.sk-toggleable__label {\n",
       "  color: var(--sklearn-color-text);\n",
       "  background-color: var(--sklearn-color-unfitted-level-2);\n",
       "}\n",
       "\n",
       "/* Label box, darken color on hover, fitted */\n",
       "#sk-container-id-3 div.sk-label.fitted:hover label.sk-toggleable__label.fitted {\n",
       "  color: var(--sklearn-color-text);\n",
       "  background-color: var(--sklearn-color-fitted-level-2);\n",
       "}\n",
       "\n",
       "/* Estimator label */\n",
       "\n",
       "#sk-container-id-3 div.sk-label label {\n",
       "  font-family: monospace;\n",
       "  font-weight: bold;\n",
       "  display: inline-block;\n",
       "  line-height: 1.2em;\n",
       "}\n",
       "\n",
       "#sk-container-id-3 div.sk-label-container {\n",
       "  text-align: center;\n",
       "}\n",
       "\n",
       "/* Estimator-specific */\n",
       "#sk-container-id-3 div.sk-estimator {\n",
       "  font-family: monospace;\n",
       "  border: 1px dotted var(--sklearn-color-border-box);\n",
       "  border-radius: 0.25em;\n",
       "  box-sizing: border-box;\n",
       "  margin-bottom: 0.5em;\n",
       "  /* unfitted */\n",
       "  background-color: var(--sklearn-color-unfitted-level-0);\n",
       "}\n",
       "\n",
       "#sk-container-id-3 div.sk-estimator.fitted {\n",
       "  /* fitted */\n",
       "  background-color: var(--sklearn-color-fitted-level-0);\n",
       "}\n",
       "\n",
       "/* on hover */\n",
       "#sk-container-id-3 div.sk-estimator:hover {\n",
       "  /* unfitted */\n",
       "  background-color: var(--sklearn-color-unfitted-level-2);\n",
       "}\n",
       "\n",
       "#sk-container-id-3 div.sk-estimator.fitted:hover {\n",
       "  /* fitted */\n",
       "  background-color: var(--sklearn-color-fitted-level-2);\n",
       "}\n",
       "\n",
       "/* Specification for estimator info (e.g. \"i\" and \"?\") */\n",
       "\n",
       "/* Common style for \"i\" and \"?\" */\n",
       "\n",
       ".sk-estimator-doc-link,\n",
       "a:link.sk-estimator-doc-link,\n",
       "a:visited.sk-estimator-doc-link {\n",
       "  float: right;\n",
       "  font-size: smaller;\n",
       "  line-height: 1em;\n",
       "  font-family: monospace;\n",
       "  background-color: var(--sklearn-color-background);\n",
       "  border-radius: 1em;\n",
       "  height: 1em;\n",
       "  width: 1em;\n",
       "  text-decoration: none !important;\n",
       "  margin-left: 1ex;\n",
       "  /* unfitted */\n",
       "  border: var(--sklearn-color-unfitted-level-1) 1pt solid;\n",
       "  color: var(--sklearn-color-unfitted-level-1);\n",
       "}\n",
       "\n",
       ".sk-estimator-doc-link.fitted,\n",
       "a:link.sk-estimator-doc-link.fitted,\n",
       "a:visited.sk-estimator-doc-link.fitted {\n",
       "  /* fitted */\n",
       "  border: var(--sklearn-color-fitted-level-1) 1pt solid;\n",
       "  color: var(--sklearn-color-fitted-level-1);\n",
       "}\n",
       "\n",
       "/* On hover */\n",
       "div.sk-estimator:hover .sk-estimator-doc-link:hover,\n",
       ".sk-estimator-doc-link:hover,\n",
       "div.sk-label-container:hover .sk-estimator-doc-link:hover,\n",
       ".sk-estimator-doc-link:hover {\n",
       "  /* unfitted */\n",
       "  background-color: var(--sklearn-color-unfitted-level-3);\n",
       "  color: var(--sklearn-color-background);\n",
       "  text-decoration: none;\n",
       "}\n",
       "\n",
       "div.sk-estimator.fitted:hover .sk-estimator-doc-link.fitted:hover,\n",
       ".sk-estimator-doc-link.fitted:hover,\n",
       "div.sk-label-container:hover .sk-estimator-doc-link.fitted:hover,\n",
       ".sk-estimator-doc-link.fitted:hover {\n",
       "  /* fitted */\n",
       "  background-color: var(--sklearn-color-fitted-level-3);\n",
       "  color: var(--sklearn-color-background);\n",
       "  text-decoration: none;\n",
       "}\n",
       "\n",
       "/* Span, style for the box shown on hovering the info icon */\n",
       ".sk-estimator-doc-link span {\n",
       "  display: none;\n",
       "  z-index: 9999;\n",
       "  position: relative;\n",
       "  font-weight: normal;\n",
       "  right: .2ex;\n",
       "  padding: .5ex;\n",
       "  margin: .5ex;\n",
       "  width: min-content;\n",
       "  min-width: 20ex;\n",
       "  max-width: 50ex;\n",
       "  color: var(--sklearn-color-text);\n",
       "  box-shadow: 2pt 2pt 4pt #999;\n",
       "  /* unfitted */\n",
       "  background: var(--sklearn-color-unfitted-level-0);\n",
       "  border: .5pt solid var(--sklearn-color-unfitted-level-3);\n",
       "}\n",
       "\n",
       ".sk-estimator-doc-link.fitted span {\n",
       "  /* fitted */\n",
       "  background: var(--sklearn-color-fitted-level-0);\n",
       "  border: var(--sklearn-color-fitted-level-3);\n",
       "}\n",
       "\n",
       ".sk-estimator-doc-link:hover span {\n",
       "  display: block;\n",
       "}\n",
       "\n",
       "/* \"?\"-specific style due to the `<a>` HTML tag */\n",
       "\n",
       "#sk-container-id-3 a.estimator_doc_link {\n",
       "  float: right;\n",
       "  font-size: 1rem;\n",
       "  line-height: 1em;\n",
       "  font-family: monospace;\n",
       "  background-color: var(--sklearn-color-background);\n",
       "  border-radius: 1rem;\n",
       "  height: 1rem;\n",
       "  width: 1rem;\n",
       "  text-decoration: none;\n",
       "  /* unfitted */\n",
       "  color: var(--sklearn-color-unfitted-level-1);\n",
       "  border: var(--sklearn-color-unfitted-level-1) 1pt solid;\n",
       "}\n",
       "\n",
       "#sk-container-id-3 a.estimator_doc_link.fitted {\n",
       "  /* fitted */\n",
       "  border: var(--sklearn-color-fitted-level-1) 1pt solid;\n",
       "  color: var(--sklearn-color-fitted-level-1);\n",
       "}\n",
       "\n",
       "/* On hover */\n",
       "#sk-container-id-3 a.estimator_doc_link:hover {\n",
       "  /* unfitted */\n",
       "  background-color: var(--sklearn-color-unfitted-level-3);\n",
       "  color: var(--sklearn-color-background);\n",
       "  text-decoration: none;\n",
       "}\n",
       "\n",
       "#sk-container-id-3 a.estimator_doc_link.fitted:hover {\n",
       "  /* fitted */\n",
       "  background-color: var(--sklearn-color-fitted-level-3);\n",
       "}\n",
       "</style><div id=\"sk-container-id-3\" class=\"sk-top-container\"><div class=\"sk-text-repr-fallback\"><pre>RandomForestClassifier(max_leaf_nodes=80, n_estimators=600, n_jobs=1,\n",
       "                       random_state=42)</pre><b>In a Jupyter environment, please rerun this cell to show the HTML representation or trust the notebook. <br />On GitHub, the HTML representation is unable to render, please try loading this page with nbviewer.org.</b></div><div class=\"sk-container\" hidden><div class=\"sk-item\"><div class=\"sk-estimator fitted sk-toggleable\"><input class=\"sk-toggleable__control sk-hidden--visually\" id=\"sk-estimator-id-3\" type=\"checkbox\" checked><label for=\"sk-estimator-id-3\" class=\"sk-toggleable__label fitted sk-toggleable__label-arrow fitted\">&nbsp;&nbsp;RandomForestClassifier<a class=\"sk-estimator-doc-link fitted\" rel=\"noreferrer\" target=\"_blank\" href=\"https://scikit-learn.org/1.5/modules/generated/sklearn.ensemble.RandomForestClassifier.html\">?<span>Documentation for RandomForestClassifier</span></a><span class=\"sk-estimator-doc-link fitted\">i<span>Fitted</span></span></label><div class=\"sk-toggleable__content fitted\"><pre>RandomForestClassifier(max_leaf_nodes=80, n_estimators=600, n_jobs=1,\n",
       "                       random_state=42)</pre></div> </div></div></div></div>"
      ]
     },
     "execution_count": 88,
     "metadata": {},
     "output_type": "execute_result"
    }
   ],
   "execution_count": 88
  },
  {
   "metadata": {
    "ExecuteTime": {
     "end_time": "2024-12-16T17:03:20.571760631Z",
     "start_time": "2024-12-16T16:32:52.278155Z"
    }
   },
   "cell_type": "code",
   "source": [
    "score = rnd_clf.score(X_test_flattened, y_test)\n",
    "print(score)"
   ],
   "id": "a402a62bcfb103f1",
   "outputs": [
    {
     "name": "stdout",
     "output_type": "stream",
     "text": [
      "0.9876190476190476\n"
     ]
    }
   ],
   "execution_count": 89
  },
  {
   "metadata": {
    "ExecuteTime": {
     "end_time": "2024-12-16T17:03:20.572002465Z",
     "start_time": "2024-12-16T16:32:52.385983Z"
    }
   },
   "cell_type": "code",
   "source": "",
   "id": "92bc0fc72f48cb20",
   "outputs": [],
   "execution_count": null
  },
  {
   "metadata": {
    "ExecuteTime": {
     "end_time": "2024-12-16T17:03:20.572151745Z",
     "start_time": "2024-12-16T16:32:52.441139Z"
    }
   },
   "cell_type": "code",
   "source": "",
   "id": "1fabbbb659da2734",
   "outputs": [],
   "execution_count": null
  }
 ],
 "metadata": {
  "kernelspec": {
   "display_name": "Python 3",
   "language": "python",
   "name": "python3"
  },
  "language_info": {
   "codemirror_mode": {
    "name": "ipython",
    "version": 2
   },
   "file_extension": ".py",
   "mimetype": "text/x-python",
   "name": "python",
   "nbconvert_exporter": "python",
   "pygments_lexer": "ipython2",
   "version": "2.7.6"
  }
 },
 "nbformat": 4,
 "nbformat_minor": 5
}
